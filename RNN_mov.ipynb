{
  "nbformat": 4,
  "nbformat_minor": 0,
  "metadata": {
    "colab": {
      "provenance": [],
      "authorship_tag": "ABX9TyPK+wE8P2r9UIziumwtsFN9",
      "include_colab_link": true
    },
    "kernelspec": {
      "name": "python3",
      "display_name": "Python 3"
    },
    "language_info": {
      "name": "python"
    }
  },
  "cells": [
    {
      "cell_type": "markdown",
      "metadata": {
        "id": "view-in-github",
        "colab_type": "text"
      },
      "source": [
        "<a href=\"https://colab.research.google.com/github/Tauheed-a21/machine-learning/blob/main/RNN_mov.ipynb\" target=\"_parent\"><img src=\"https://colab.research.google.com/assets/colab-badge.svg\" alt=\"Open In Colab\"/></a>"
      ]
    },
    {
      "cell_type": "code",
      "execution_count": 3,
      "metadata": {
        "colab": {
          "base_uri": "https://localhost:8080/"
        },
        "id": "A0Ss4czo9W3T",
        "outputId": "b6d4c3a9-81f9-493c-c9d5-c2afb55d4eda"
      },
      "outputs": [
        {
          "metadata": {
            "tags": null
          },
          "name": "stdout",
          "output_type": "stream",
          "text": [
            "Epoch 1/10\n"
          ]
        },
        {
          "metadata": {
            "tags": null
          },
          "name": "stderr",
          "output_type": "stream",
          "text": [
            "/usr/local/lib/python3.12/dist-packages/keras/src/layers/core/embedding.py:97: UserWarning: Argument `input_length` is deprecated. Just remove it.\n",
            "  warnings.warn(\n"
          ]
        },
        {
          "metadata": {
            "tags": null
          },
          "name": "stdout",
          "output_type": "stream",
          "text": [
            "\u001b[1m633/633\u001b[0m \u001b[32m━━━━━━━━━━━━━━━━━━━━\u001b[0m\u001b[37m\u001b[0m \u001b[1m0s\u001b[0m 187ms/step - accuracy: 0.4931 - loss: 0.7285"
          ]
        },
        {
          "metadata": {
            "tags": null
          },
          "name": "stderr",
          "output_type": "stream",
          "text": [
            "WARNING:absl:You are saving your model as an HDF5 file via `model.save()` or `keras.saving.save_model(model)`. This file format is considered legacy. We recommend using instead the native Keras format, e.g. `model.save('my_model.keras')` or `keras.saving.save_model(model, 'my_model.keras')`. \n"
          ]
        },
        {
          "output_type": "stream",
          "name": "stdout",
          "text": [
            "\u001b[1m633/633\u001b[0m \u001b[32m━━━━━━━━━━━━━━━━━━━━\u001b[0m\u001b[37m\u001b[0m \u001b[1m124s\u001b[0m 192ms/step - accuracy: 0.4931 - loss: 0.7285 - val_accuracy: 0.5031 - val_loss: 0.6932\n",
            "Epoch 2/10\n",
            "\u001b[1m633/633\u001b[0m \u001b[32m━━━━━━━━━━━━━━━━━━━━\u001b[0m\u001b[37m\u001b[0m \u001b[1m115s\u001b[0m 182ms/step - accuracy: 0.5028 - loss: 0.6990 - val_accuracy: 0.4898 - val_loss: 0.6942\n",
            "Epoch 3/10\n",
            "\u001b[1m633/633\u001b[0m \u001b[32m━━━━━━━━━━━━━━━━━━━━\u001b[0m\u001b[37m\u001b[0m \u001b[1m122s\u001b[0m 193ms/step - accuracy: 0.4988 - loss: 0.6953 - val_accuracy: 0.5000 - val_loss: 0.6941\n",
            "\u001b[1m157/157\u001b[0m \u001b[32m━━━━━━━━━━━━━━━━━━━━\u001b[0m\u001b[37m\u001b[0m \u001b[1m4s\u001b[0m 24ms/step - accuracy: 0.4965 - loss: 0.6943\n",
            "Test loss: 0.6938  Test accuracy: 0.5044\n",
            "\u001b[1m157/157\u001b[0m \u001b[32m━━━━━━━━━━━━━━━━━━━━\u001b[0m\u001b[37m\u001b[0m \u001b[1m4s\u001b[0m 26ms/step\n",
            "              precision    recall  f1-score   support\n",
            "\n",
            "           0     0.5049    0.4564    0.4794      2500\n",
            "           1     0.5040    0.5524    0.5271      2500\n",
            "\n",
            "    accuracy                         0.5044      5000\n",
            "   macro avg     0.5044    0.5044    0.5033      5000\n",
            "weighted avg     0.5044    0.5044    0.5033      5000\n",
            "\n"
          ]
        }
      ],
      "source": [
        "import os\n",
        "import random\n",
        "import re\n",
        "from pathlib import Path\n",
        "\n",
        "import numpy as np\n",
        "import pandas as pd\n",
        "from sklearn.model_selection import train_test_split\n",
        "from sklearn.metrics import classification_report\n",
        "\n",
        "import tensorflow as tf\n",
        "from tensorflow.keras.preprocessing.text import Tokenizer\n",
        "from tensorflow.keras.preprocessing.sequence import pad_sequences\n",
        "from tensorflow.keras.models import Sequential\n",
        "from tensorflow.keras.layers import Embedding, SimpleRNN, LSTM, Dense, Dropout, Bidirectional\n",
        "from tensorflow.keras.callbacks import EarlyStopping, ModelCheckpoint\n",
        "\n",
        "MAX_VOCAB_SIZE = 30000\n",
        "MAX_SEQUENCE_LENGTH = 300\n",
        "EMBEDDING_DIM = 128\n",
        "BATCH_SIZE = 64\n",
        "EPOCHS = 10\n",
        "VALIDATION_SPLIT = 0.1\n",
        "TEST_SIZE = 0.1\n",
        "RNN_TYPE = \"SimpleRNN\"\n",
        "MODEL_SAVE_PATH = \"rnn_imdb_best.h5\"\n",
        "TOKENIZER_PATH = \"tokenizer.json\"\n",
        "SEED = 42\n",
        "\n",
        "os.environ['PYTHONHASHSEED'] = str(SEED)\n",
        "random.seed(SEED)\n",
        "np.random.seed(SEED)\n",
        "tf.random.set_seed(SEED)\n",
        "\n",
        "def load_dataset(path=\"IMDB Dataset.csv\"):\n",
        "    df = pd.read_csv(path)\n",
        "    df.columns = [c.lower() for c in df.columns]\n",
        "    df = df[['review', 'sentiment']].dropna()\n",
        "    df['label'] = df['sentiment'].map(lambda x: 1 if str(x).strip().lower().startswith('pos') else 0)\n",
        "    return df[['review', 'label']]\n",
        "\n",
        "def clean_text(text):\n",
        "    text = re.sub(r'<br\\s*/?>', ' ', text)\n",
        "    text = re.sub(r'<.*?>', ' ', text)\n",
        "    text = re.sub(r\"[^a-zA-Z0-9' ]\", ' ', text)\n",
        "    text = re.sub(r\"\\s+\", ' ', text)\n",
        "    return text.strip().lower()\n",
        "\n",
        "def prepare_tokenizer(texts, max_words=MAX_VOCAB_SIZE):\n",
        "    tokenizer = Tokenizer(num_words=max_words, oov_token='<OOV>')\n",
        "    tokenizer.fit_on_texts(texts)\n",
        "    return tokenizer\n",
        "\n",
        "def sequences_from_text(tokenizer, texts, maxlen=MAX_SEQUENCE_LENGTH):\n",
        "    seqs = tokenizer.texts_to_sequences(texts)\n",
        "    return pad_sequences(seqs, maxlen=maxlen, padding='post', truncating='post')\n",
        "\n",
        "def build_model(rnn_type=RNN_TYPE, vocab_size=MAX_VOCAB_SIZE, embedding_dim=EMBEDDING_DIM, input_length=MAX_SEQUENCE_LENGTH):\n",
        "    model = Sequential()\n",
        "    model.add(Embedding(input_dim=vocab_size, output_dim=embedding_dim, input_length=input_length))\n",
        "\n",
        "    if rnn_type == 'SimpleRNN':\n",
        "        model.add(SimpleRNN(128))\n",
        "    elif rnn_type == 'LSTM':\n",
        "        model.add(LSTM(128))\n",
        "    elif rnn_type == 'BidirectionalLSTM':\n",
        "        model.add(Bidirectional(LSTM(128)))\n",
        "    elif rnn_type == 'BidirectionalSimpleRNN':\n",
        "        model.add(Bidirectional(SimpleRNN(128)))\n",
        "\n",
        "    model.add(Dropout(0.5))\n",
        "    model.add(Dense(64, activation='relu'))\n",
        "    model.add(Dropout(0.3))\n",
        "    model.add(Dense(1, activation='sigmoid'))\n",
        "\n",
        "    model.compile(loss='binary_crossentropy', optimizer='adam', metrics=['accuracy'])\n",
        "    return model\n",
        "\n",
        "def main(dataset_path='IMDB Dataset.csv'):\n",
        "    df = load_dataset(dataset_path)\n",
        "    df['clean_review'] = df['review'].apply(clean_text)\n",
        "    train_val_df, test_df = train_test_split(df, test_size=TEST_SIZE, random_state=SEED, stratify=df['label'])\n",
        "\n",
        "    tokenizer = prepare_tokenizer(train_val_df['clean_review'].tolist(), max_words=MAX_VOCAB_SIZE)\n",
        "    vocab_size = min(MAX_VOCAB_SIZE, len(tokenizer.word_index) + 1)\n",
        "\n",
        "    X_train_val = sequences_from_text(tokenizer, train_val_df['clean_review'].tolist(), MAX_SEQUENCE_LENGTH)\n",
        "    y_train_val = train_val_df['label'].values\n",
        "    X_test = sequences_from_text(tokenizer, test_df['clean_review'].tolist(), MAX_SEQUENCE_LENGTH)\n",
        "    y_test = test_df['label'].values\n",
        "\n",
        "    X_train, X_val, y_train, y_val = train_test_split(X_train_val, y_train_val, test_size=VALIDATION_SPLIT, random_state=SEED, stratify=y_train_val)\n",
        "\n",
        "    model = build_model(rnn_type=RNN_TYPE, vocab_size=vocab_size, embedding_dim=EMBEDDING_DIM, input_length=MAX_SEQUENCE_LENGTH)\n",
        "\n",
        "    callbacks = [\n",
        "        EarlyStopping(monitor='val_loss', patience=2, restore_best_weights=True),\n",
        "        ModelCheckpoint(MODEL_SAVE_PATH, monitor='val_loss', save_best_only=True)\n",
        "    ]\n",
        "\n",
        "    model.fit(\n",
        "        X_train, y_train,\n",
        "        epochs=EPOCHS,\n",
        "        batch_size=BATCH_SIZE,\n",
        "        validation_data=(X_val, y_val),\n",
        "        callbacks=callbacks\n",
        "    )\n",
        "\n",
        "    test_loss, test_acc = model.evaluate(X_test, y_test, verbose=1)\n",
        "    print(f'Test loss: {test_loss:.4f}  Test accuracy: {test_acc:.4f}')\n",
        "\n",
        "    y_pred = (model.predict(X_test) >= 0.5).astype(int).reshape(-1)\n",
        "    print(classification_report(y_test, y_pred, digits=4))\n",
        "\n",
        "if __name__ == '__main__':\n",
        "    main('IMDB Dataset.csv')"
      ]
    }
  ]
}